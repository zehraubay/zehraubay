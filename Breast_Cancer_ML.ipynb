{
  "cells": [
    {
      "cell_type": "markdown",
      "metadata": {
        "id": "view-in-github",
        "colab_type": "text"
      },
      "source": [
        "<a href=\"https://colab.research.google.com/github/zehraubay/zehraubay/blob/main/Breast_Cancer_ML.ipynb\" target=\"_parent\"><img src=\"https://colab.research.google.com/assets/colab-badge.svg\" alt=\"Open In Colab\"/></a>"
      ]
    },
    {
      "cell_type": "code",
      "source": [
        "import pandas as pd\n",
        "import numpy as np\n",
        "from sklearn.tree import DecisionTreeClassifier\n",
        "from sklearn.model_selection import train_test_split\n",
        "import matplotlib.pyplot as plt\n"
      ],
      "metadata": {
        "id": "LxyaMdJ5gz4v"
      },
      "execution_count": null,
      "outputs": []
    },
    {
      "cell_type": "code",
      "source": [
        "kanser = pd.read_csv('archive.zip')"
      ],
      "metadata": {
        "id": "o-Km0SkEh1X_"
      },
      "execution_count": null,
      "outputs": []
    },
    {
      "cell_type": "code",
      "source": [
        "kanser.head(3)"
      ],
      "metadata": {
        "id": "T2xK7uxZinNX"
      },
      "execution_count": null,
      "outputs": []
    },
    {
      "cell_type": "code",
      "source": [
        "kanser.info()"
      ],
      "metadata": {
        "id": "eXHfiEoGir2o"
      },
      "execution_count": null,
      "outputs": []
    },
    {
      "cell_type": "code",
      "source": [
        "y=kanser[['diagnosis']]\n",
        "x=kanser.drop(columns=['diagnosis','id'], axis=1)"
      ],
      "metadata": {
        "id": "BYDwRUd4i2Rv"
      },
      "execution_count": null,
      "outputs": []
    },
    {
      "cell_type": "code",
      "source": [
        "x_train,x_test,y_train,y_test=train_test_split(x,y,train_size=0.8,random_state=34)"
      ],
      "metadata": {
        "id": "TjhEcoihlVxX"
      },
      "execution_count": null,
      "outputs": []
    },
    {
      "cell_type": "code",
      "source": [
        "tree=DecisionTreeClassifier()\n",
        "model=tree.fit(x_train,y_train)\n"
      ],
      "metadata": {
        "id": "bKYypJlMCJfO"
      },
      "execution_count": null,
      "outputs": []
    },
    {
      "cell_type": "code",
      "source": [
        "model.score(x_test,y_test)"
      ],
      "metadata": {
        "id": "QpuVG58BC61i"
      },
      "execution_count": null,
      "outputs": []
    },
    {
      "cell_type": "code",
      "source": [
        "a=list(kanser.iloc[260])"
      ],
      "metadata": {
        "collapsed": true,
        "id": "4GpR8ilaEzah"
      },
      "execution_count": null,
      "outputs": []
    },
    {
      "cell_type": "code",
      "source": [
        "b=a[2: ]"
      ],
      "metadata": {
        "id": "aREpsIYdFiJd"
      },
      "execution_count": null,
      "outputs": []
    },
    {
      "cell_type": "code",
      "source": [
        "model.predict([b])"
      ],
      "metadata": {
        "id": "su9SenVDFiWP",
        "collapsed": true,
        "colab": {
          "base_uri": "https://localhost:8080/"
        },
        "outputId": "006779a0-7067-4c9f-9fec-1afe125c35d2"
      },
      "execution_count": null,
      "outputs": [
        {
          "output_type": "stream",
          "name": "stderr",
          "text": [
            "/usr/local/lib/python3.10/dist-packages/sklearn/base.py:465: UserWarning: X does not have valid feature names, but DecisionTreeClassifier was fitted with feature names\n",
            "  warnings.warn(\n"
          ]
        },
        {
          "output_type": "execute_result",
          "data": {
            "text/plain": [
              "array(['M'], dtype=object)"
            ]
          },
          "metadata": {},
          "execution_count": 31
        }
      ]
    },
    {
      "cell_type": "code",
      "source": [
        "diagnosis_distribution=kanser['diagnosis'].value_counts()"
      ],
      "metadata": {
        "id": "da6iodk6SGiJ"
      },
      "execution_count": null,
      "outputs": []
    },
    {
      "cell_type": "code",
      "source": [
        "diagnosis_distribution.plot(kind='bar', color=['blue','green'])\n",
        "plt.title('Kanser Teşhisi Dağılımı')\n",
        "plt.xlabel('Teşhis')\n",
        "plt.ylabel('Sayı')\n",
        "plt.show()"
      ],
      "metadata": {
        "id": "mu2aK6bVS46o"
      },
      "execution_count": null,
      "outputs": []
    }
  ],
  "metadata": {
    "colab": {
      "provenance": [],
      "include_colab_link": true
    },
    "kernelspec": {
      "display_name": "Python 3",
      "name": "python3"
    }
  },
  "nbformat": 4,
  "nbformat_minor": 0
}